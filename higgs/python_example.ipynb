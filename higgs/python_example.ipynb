{
 "cells": [
  {
   "cell_type": "markdown",
   "metadata": {},
   "source": [
    "## Load the dataset"
   ]
  },
  {
   "cell_type": "code",
   "execution_count": 1,
   "metadata": {
    "collapsed": false
   },
   "outputs": [],
   "source": [
    "import numpy as np\n",
    "import pandas as pd"
   ]
  },
  {
   "cell_type": "code",
   "execution_count": 2,
   "metadata": {
    "collapsed": false
   },
   "outputs": [],
   "source": [
    "train_data = pd.DataFrame.from_csv('trainData.csv')"
   ]
  },
  {
   "cell_type": "code",
   "execution_count": 3,
   "metadata": {
    "collapsed": false
   },
   "outputs": [
    {
     "data": {
      "text/html": [
       "<div>\n",
       "<table border=\"1\" class=\"dataframe\">\n",
       "  <thead>\n",
       "    <tr style=\"text-align: right;\">\n",
       "      <th></th>\n",
       "      <th>V1</th>\n",
       "      <th>V2</th>\n",
       "      <th>V3</th>\n",
       "      <th>V4</th>\n",
       "      <th>V5</th>\n",
       "      <th>V6</th>\n",
       "      <th>V7</th>\n",
       "      <th>V8</th>\n",
       "      <th>V9</th>\n",
       "      <th>V10</th>\n",
       "      <th>...</th>\n",
       "      <th>V20</th>\n",
       "      <th>V21</th>\n",
       "      <th>V22</th>\n",
       "      <th>V23</th>\n",
       "      <th>V24</th>\n",
       "      <th>V25</th>\n",
       "      <th>V26</th>\n",
       "      <th>V27</th>\n",
       "      <th>V28</th>\n",
       "      <th>V29</th>\n",
       "    </tr>\n",
       "  </thead>\n",
       "  <tbody>\n",
       "    <tr>\n",
       "      <th>1</th>\n",
       "      <td>1</td>\n",
       "      <td>2.189155</td>\n",
       "      <td>-0.928246</td>\n",
       "      <td>-0.733770</td>\n",
       "      <td>0.757475</td>\n",
       "      <td>-0.141473</td>\n",
       "      <td>0.631723</td>\n",
       "      <td>0.377252</td>\n",
       "      <td>0.651552</td>\n",
       "      <td>2.173076</td>\n",
       "      <td>...</td>\n",
       "      <td>0.458425</td>\n",
       "      <td>1.130194</td>\n",
       "      <td>0.000000</td>\n",
       "      <td>0.939557</td>\n",
       "      <td>0.890932</td>\n",
       "      <td>0.993655</td>\n",
       "      <td>0.958913</td>\n",
       "      <td>0.908159</td>\n",
       "      <td>0.998248</td>\n",
       "      <td>0.877713</td>\n",
       "    </tr>\n",
       "    <tr>\n",
       "      <th>2</th>\n",
       "      <td>-1</td>\n",
       "      <td>0.460451</td>\n",
       "      <td>-0.649691</td>\n",
       "      <td>0.200167</td>\n",
       "      <td>2.036322</td>\n",
       "      <td>1.549121</td>\n",
       "      <td>1.076202</td>\n",
       "      <td>-0.435727</td>\n",
       "      <td>-0.217257</td>\n",
       "      <td>2.173076</td>\n",
       "      <td>...</td>\n",
       "      <td>0.298523</td>\n",
       "      <td>-1.031848</td>\n",
       "      <td>0.000000</td>\n",
       "      <td>0.741866</td>\n",
       "      <td>0.722201</td>\n",
       "      <td>1.257912</td>\n",
       "      <td>0.712958</td>\n",
       "      <td>0.993560</td>\n",
       "      <td>0.908143</td>\n",
       "      <td>0.728229</td>\n",
       "    </tr>\n",
       "    <tr>\n",
       "      <th>3</th>\n",
       "      <td>1</td>\n",
       "      <td>1.784339</td>\n",
       "      <td>0.043774</td>\n",
       "      <td>-1.537210</td>\n",
       "      <td>0.089747</td>\n",
       "      <td>-0.596791</td>\n",
       "      <td>0.688520</td>\n",
       "      <td>1.251625</td>\n",
       "      <td>0.033423</td>\n",
       "      <td>2.173076</td>\n",
       "      <td>...</td>\n",
       "      <td>0.540874</td>\n",
       "      <td>1.084137</td>\n",
       "      <td>0.000000</td>\n",
       "      <td>0.741489</td>\n",
       "      <td>0.811567</td>\n",
       "      <td>0.982991</td>\n",
       "      <td>0.648625</td>\n",
       "      <td>0.192718</td>\n",
       "      <td>0.720888</td>\n",
       "      <td>0.723765</td>\n",
       "    </tr>\n",
       "    <tr>\n",
       "      <th>4</th>\n",
       "      <td>1</td>\n",
       "      <td>1.365065</td>\n",
       "      <td>0.498618</td>\n",
       "      <td>1.484116</td>\n",
       "      <td>1.356480</td>\n",
       "      <td>1.145011</td>\n",
       "      <td>0.335191</td>\n",
       "      <td>1.519978</td>\n",
       "      <td>-0.174016</td>\n",
       "      <td>0.000000</td>\n",
       "      <td>...</td>\n",
       "      <td>0.685786</td>\n",
       "      <td>-0.545743</td>\n",
       "      <td>0.000000</td>\n",
       "      <td>0.333614</td>\n",
       "      <td>0.582815</td>\n",
       "      <td>0.990994</td>\n",
       "      <td>0.901439</td>\n",
       "      <td>0.953692</td>\n",
       "      <td>0.966348</td>\n",
       "      <td>0.784963</td>\n",
       "    </tr>\n",
       "    <tr>\n",
       "      <th>5</th>\n",
       "      <td>1</td>\n",
       "      <td>0.862888</td>\n",
       "      <td>1.490118</td>\n",
       "      <td>1.304896</td>\n",
       "      <td>0.329049</td>\n",
       "      <td>1.430073</td>\n",
       "      <td>1.027467</td>\n",
       "      <td>0.779285</td>\n",
       "      <td>-0.442333</td>\n",
       "      <td>2.173076</td>\n",
       "      <td>...</td>\n",
       "      <td>-0.183682</td>\n",
       "      <td>-0.819872</td>\n",
       "      <td>3.101961</td>\n",
       "      <td>0.650697</td>\n",
       "      <td>0.781158</td>\n",
       "      <td>0.977256</td>\n",
       "      <td>1.077882</td>\n",
       "      <td>0.866696</td>\n",
       "      <td>0.868357</td>\n",
       "      <td>0.710189</td>\n",
       "    </tr>\n",
       "  </tbody>\n",
       "</table>\n",
       "<p>5 rows × 29 columns</p>\n",
       "</div>"
      ],
      "text/plain": [
       "   V1        V2        V3        V4        V5        V6        V7        V8  \\\n",
       "1   1  2.189155 -0.928246 -0.733770  0.757475 -0.141473  0.631723  0.377252   \n",
       "2  -1  0.460451 -0.649691  0.200167  2.036322  1.549121  1.076202 -0.435727   \n",
       "3   1  1.784339  0.043774 -1.537210  0.089747 -0.596791  0.688520  1.251625   \n",
       "4   1  1.365065  0.498618  1.484116  1.356480  1.145011  0.335191  1.519978   \n",
       "5   1  0.862888  1.490118  1.304896  0.329049  1.430073  1.027467  0.779285   \n",
       "\n",
       "         V9       V10    ...          V20       V21       V22       V23  \\\n",
       "1  0.651552  2.173076    ...     0.458425  1.130194  0.000000  0.939557   \n",
       "2 -0.217257  2.173076    ...     0.298523 -1.031848  0.000000  0.741866   \n",
       "3  0.033423  2.173076    ...     0.540874  1.084137  0.000000  0.741489   \n",
       "4 -0.174016  0.000000    ...     0.685786 -0.545743  0.000000  0.333614   \n",
       "5 -0.442333  2.173076    ...    -0.183682 -0.819872  3.101961  0.650697   \n",
       "\n",
       "        V24       V25       V26       V27       V28       V29  \n",
       "1  0.890932  0.993655  0.958913  0.908159  0.998248  0.877713  \n",
       "2  0.722201  1.257912  0.712958  0.993560  0.908143  0.728229  \n",
       "3  0.811567  0.982991  0.648625  0.192718  0.720888  0.723765  \n",
       "4  0.582815  0.990994  0.901439  0.953692  0.966348  0.784963  \n",
       "5  0.781158  0.977256  1.077882  0.866696  0.868357  0.710189  \n",
       "\n",
       "[5 rows x 29 columns]"
      ]
     },
     "execution_count": 3,
     "metadata": {},
     "output_type": "execute_result"
    }
   ],
   "source": [
    "train_data.head()"
   ]
  },
  {
   "cell_type": "code",
   "execution_count": 4,
   "metadata": {
    "collapsed": false
   },
   "outputs": [],
   "source": [
    "Y = train_data['V1']"
   ]
  },
  {
   "cell_type": "code",
   "execution_count": 5,
   "metadata": {
    "collapsed": false
   },
   "outputs": [],
   "source": [
    "features = train_data.columns[1:]"
   ]
  },
  {
   "cell_type": "code",
   "execution_count": 6,
   "metadata": {
    "collapsed": false
   },
   "outputs": [],
   "source": [
    "X = train_data[features]"
   ]
  },
  {
   "cell_type": "markdown",
   "metadata": {},
   "source": [
    "## Train/Test split"
   ]
  },
  {
   "cell_type": "code",
   "execution_count": 7,
   "metadata": {
    "collapsed": false
   },
   "outputs": [],
   "source": [
    "X_train, Y_train, X_test, Y_test = X[0:7000], Y[0:7000], X[7001:10000], Y[7001:10000]"
   ]
  },
  {
   "cell_type": "markdown",
   "metadata": {},
   "source": [
    "## Build a decision tree"
   ]
  },
  {
   "cell_type": "code",
   "execution_count": 8,
   "metadata": {
    "collapsed": true
   },
   "outputs": [],
   "source": [
    "from sklearn import tree"
   ]
  },
  {
   "cell_type": "code",
   "execution_count": 9,
   "metadata": {
    "collapsed": false
   },
   "outputs": [],
   "source": [
    "clf = tree.DecisionTreeClassifier()"
   ]
  },
  {
   "cell_type": "markdown",
   "metadata": {},
   "source": [
    "## Train it and evaluate its performance"
   ]
  },
  {
   "cell_type": "markdown",
   "metadata": {},
   "source": [
    "### Try some different values for max_depth"
   ]
  },
  {
   "cell_type": "code",
   "execution_count": 10,
   "metadata": {
    "collapsed": false
   },
   "outputs": [],
   "source": [
    "n = 15\n",
    "scores = np.zeros(n)\n",
    "for i in range(1, n + 1):\n",
    "    clf.max_depth = i\n",
    "    clf = clf.fit(X_train, Y_train)\n",
    "    scores[i - 1] = clf.score(X_test, Y_test)  # NumPy array uses 0-based indexing"
   ]
  },
  {
   "cell_type": "code",
   "execution_count": 11,
   "metadata": {
    "collapsed": false
   },
   "outputs": [
    {
     "data": {
      "image/png": "[encoded data removed]",
      "text/plain": [
       "<matplotlib.figure.Figure at 0x10be2c198>"
      ]
     },
     "metadata": {},
     "output_type": "display_data"
    }
   ],
   "source": [
    "from matplotlib import pyplot as plt\n",
    "%matplotlib inline\n",
    "plt.plot(scores);\n",
    "plt.xlabel('max_depth');\n",
    "plt.ylabel('score');"
   ]
  },
  {
   "cell_type": "code",
   "execution_count": 12,
   "metadata": {
    "collapsed": false
   },
   "outputs": [
    {
     "name": "stdout",
     "output_type": "stream",
     "text": [
      "Best score was 0.649 with max_depth=5.\n"
     ]
    }
   ],
   "source": [
    "print('Best score was {:.3f} with max_depth={}.'.format(np.max(scores), np.argmax(scores)))"
   ]
  }
 ],
 "metadata": {
  "kernelspec": {
   "display_name": "Python 3",
   "language": "python",
   "name": "python3"
  },
  "language_info": {
   "codemirror_mode": {
    "name": "ipython",
    "version": 3
   },
   "file_extension": ".py",
   "mimetype": "text/x-python",
   "name": "python",
   "nbconvert_exporter": "python",
   "pygments_lexer": "ipython3",
   "version": "3.4.3"
  }
 },
 "nbformat": 4,
 "nbformat_minor": 0
}
